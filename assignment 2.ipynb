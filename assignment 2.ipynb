{
 "cells": [
  {
   "cell_type": "markdown",
   "metadata": {},
   "source": [
    "## Write a Numpy program to compute the multiplication of two given matrixes"
   ]
  },
  {
   "cell_type": "code",
   "execution_count": 13,
   "metadata": {},
   "outputs": [
    {
     "name": "stdout",
     "output_type": "stream",
     "text": [
      "original matrices are:\n",
      "\n",
      "[[1 3 6 7]\n",
      " [8 6 4 2]] \n",
      "\n",
      "[[7 6 6 8]\n",
      " [4 9 4 2]\n",
      " [8 9 6 4]\n",
      " [4 5 8 6]] \n",
      "\n",
      "Dot multiplication \n",
      "\n",
      "[[ 95 122 110  80]\n",
      " [120 148 112 104]]\n"
     ]
    }
   ],
   "source": [
    "import numpy as np \n",
    "\n",
    "def mat_multiplication (A,B,op = '*'):\n",
    "#     assert len(A) == len(B)\n",
    "\n",
    "    print(\"original matrices are:\\n\")\n",
    "    print(A,\"\\n\")\n",
    "    print(B,\"\\n\")\n",
    "    print(\"Dot multiplication \\n\")\n",
    "    dotMult = np.dot(A,B)\n",
    "    print(dotMult)\n",
    "\n",
    "#     print(\"element by element multiplication\")\n",
    "#     C = A*B\n",
    "#     print(C)\n",
    "\n",
    "x=np.array([[1,3,6,7],[8,6,4,2]])\n",
    "y=np.array([[7,6,6,8],[4,9,4,2],[8,9,6,4],[4,5,8,6]])\n",
    "op = '*'\n",
    "mat_multiplication(x,y,op)\n",
    "\n",
    "\n",
    "#I'm not sure you want which type of multiplication broadcast or dot!"
   ]
  },
  {
   "cell_type": "code",
   "execution_count": null,
   "metadata": {},
   "outputs": [],
   "source": []
  },
  {
   "cell_type": "markdown",
   "metadata": {},
   "source": [
    "## Write a NumPy program to compute the determinant of a given square array"
   ]
  },
  {
   "cell_type": "code",
   "execution_count": 18,
   "metadata": {},
   "outputs": [
    {
     "name": "stdout",
     "output_type": "stream",
     "text": [
      "Your matrix determinant is: \n",
      "\n",
      "[[1 3 6 7]\n",
      " [8 6 4 2]]\n"
     ]
    },
    {
     "data": {
      "text/plain": [
       "624.0000000000007"
      ]
     },
     "execution_count": 18,
     "metadata": {},
     "output_type": "execute_result"
    }
   ],
   "source": [
    "import numpy as np\n",
    "def mat_det (X):\n",
    "    print(\"Your matrix determinant is: \\n\")\n",
    "    print(x)\n",
    "    y=np.linalg.det(A)\n",
    "    return y\n",
    "\n",
    "A=np.array([[7,6,6,8],[4,9,4,2],[8,9,6,4],[4,5,8,6]])\n",
    "mat_det(A)"
   ]
  },
  {
   "cell_type": "code",
   "execution_count": null,
   "metadata": {},
   "outputs": [],
   "source": []
  },
  {
   "cell_type": "markdown",
   "metadata": {},
   "source": [
    "## Write a NumPy program to compute the cross product of two given vectors"
   ]
  },
  {
   "cell_type": "code",
   "execution_count": 28,
   "metadata": {},
   "outputs": [
    {
     "name": "stdout",
     "output_type": "stream",
     "text": [
      "original matrices are:\n",
      "\n",
      "[8, 6, 4] \n",
      "\n",
      "[1, 3, 6] \n",
      "\n",
      "Cross multiplication \n",
      "\n",
      "[ 24 -44  18]\n"
     ]
    }
   ],
   "source": [
    "import numpy as np \n",
    "\n",
    "def mat_multiplication (A,B,op = 'x'):\n",
    "\n",
    "    print(\"original matrices are:\\n\")\n",
    "    print(A,\"\\n\")\n",
    "    print(B,\"\\n\")\n",
    "    print(\"Cross multiplication \\n\")\n",
    "    crossMult = np.cross(A,B)\n",
    "    print(crossMult)\n",
    "\n",
    "\n",
    "x=[8,6,4]\n",
    "y=[1,3,6]\n",
    "op = 'x'\n",
    "mat_multiplication(x,y,op)"
   ]
  },
  {
   "cell_type": "code",
   "execution_count": null,
   "metadata": {},
   "outputs": [],
   "source": []
  },
  {
   "cell_type": "markdown",
   "metadata": {},
   "source": [
    "## Write a NumPy program to compute the condition number of a given matrix"
   ]
  },
  {
   "cell_type": "code",
   "execution_count": 38,
   "metadata": {},
   "outputs": [
    {
     "name": "stdout",
     "output_type": "stream",
     "text": [
      "Matrix is:\n",
      " [[ 8  6  4]\n",
      " [ 4 75  7]\n",
      " [ 8  0  1]]\n",
      "Matrix Dimentions: \n",
      " 2\n",
      "Matrix Data type: \n",
      " int32\n",
      "Matrix Shape: \n",
      " (3, 3)\n",
      "MAtrix Condition Numberis:  70.74193548387098\n"
     ]
    }
   ],
   "source": [
    "import numpy as np\n",
    "from numpy import linalg as LA\n",
    "\n",
    "arr = np.array([[ 8, 6, 4],\n",
    "   [4, 75, 7],\n",
    "   [8, 0, 1]])\n",
    "\n",
    "print(\"Matrix is:\\n\",arr)\n",
    "\n",
    "print(\"Matrix Dimentions: \\n\",arr.ndim)\n",
    "\n",
    "print(\"Matrix Data type: \\n\",arr.dtype)\n",
    "\n",
    "print(\"Matrix Shape: \\n\",arr.shape)\n",
    "\n",
    "print(\"MAtrix Condition Numberis: \",LA.cond(arr, np.inf))"
   ]
  },
  {
   "cell_type": "code",
   "execution_count": null,
   "metadata": {},
   "outputs": [],
   "source": []
  },
  {
   "cell_type": "markdown",
   "metadata": {},
   "source": [
    "## Write a NumPy program to compute the inverse of a given matrix"
   ]
  },
  {
   "cell_type": "code",
   "execution_count": 43,
   "metadata": {},
   "outputs": [
    {
     "name": "stdout",
     "output_type": "stream",
     "text": [
      "[[ 5 10]\n",
      " [15 20]] \n",
      "\n",
      "inverse: \n",
      "\n",
      " [[-0.4  0.2]\n",
      " [ 0.3 -0.1]]\n"
     ]
    }
   ],
   "source": [
    "import numpy as np\n",
    "from numpy.linalg import inv\n",
    "\n",
    "arr = np.array([[ 5, 10], [ 15, 20 ]])\n",
    "\n",
    "print(arr,\"\\n\")\n",
    "\n",
    "print(\"inverse: \\n\\n\",np.linalg.inv(arr))"
   ]
  },
  {
   "cell_type": "code",
   "execution_count": null,
   "metadata": {},
   "outputs": [],
   "source": []
  },
  {
   "cell_type": "code",
   "execution_count": null,
   "metadata": {},
   "outputs": [],
   "source": []
  }
 ],
 "metadata": {
  "kernelspec": {
   "display_name": "Python 3 (ipykernel)",
   "language": "python",
   "name": "python3"
  },
  "language_info": {
   "codemirror_mode": {
    "name": "ipython",
    "version": 3
   },
   "file_extension": ".py",
   "mimetype": "text/x-python",
   "name": "python",
   "nbconvert_exporter": "python",
   "pygments_lexer": "ipython3",
   "version": "3.9.12"
  }
 },
 "nbformat": 4,
 "nbformat_minor": 2
}
